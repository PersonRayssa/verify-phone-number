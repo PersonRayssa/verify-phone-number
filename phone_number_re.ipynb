{
  "nbformat": 4,
  "nbformat_minor": 0,
  "metadata": {
    "colab": {
      "provenance": [],
      "authorship_tag": "ABX9TyMtZh2pT0/8eEr875Iw3HPC",
      "include_colab_link": true
    },
    "kernelspec": {
      "name": "python3",
      "display_name": "Python 3"
    },
    "language_info": {
      "name": "python"
    }
  },
  "cells": [
    {
      "cell_type": "markdown",
      "metadata": {
        "id": "view-in-github",
        "colab_type": "text"
      },
      "source": [
        "<a href=\"https://colab.research.google.com/github/PersonRayssa/verify-phone-number/blob/main/phone_number_re.ipynb\" target=\"_parent\"><img src=\"https://colab.research.google.com/assets/colab-badge.svg\" alt=\"Open In Colab\"/></a>"
      ]
    },
    {
      "cell_type": "code",
      "execution_count": 43,
      "metadata": {
        "colab": {
          "base_uri": "https://localhost:8080/"
        },
        "id": "I9b6nI-nO5nS",
        "outputId": "9a4f955e-c811-43c8-92b2-a23fb56c080a"
      },
      "outputs": [
        {
          "output_type": "stream",
          "name": "stdout",
          "text": [
            "5511910146921\n",
            "É número de telefone brasileiro\n"
          ]
        }
      ],
      "source": [
        "import re\n",
        "br = r'(\\+?55)(\\s?)(\\d{2})(\\s?)(\\d{4,5})(-?)(\\d{4})'\n",
        "teste = input()\n",
        "busca = re.search(br, teste)\n",
        "\n",
        "if busca:\n",
        "  print('É número de telefone brasileiro')\n",
        "else:\n",
        "  print('Não é um número de telefone brasileiro')"
      ]
    }
  ]
}